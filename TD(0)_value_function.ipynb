{
  "nbformat": 4,
  "nbformat_minor": 0,
  "metadata": {
    "colab": {
      "name": "HW4.ipynb",
      "provenance": [],
      "collapsed_sections": []
    },
    "kernelspec": {
      "name": "python3",
      "display_name": "Python 3"
    }
  },
  "cells": [
    {
      "cell_type": "markdown",
      "metadata": {
        "id": "BPF8d9DDcqN8"
      },
      "source": [
        "Setup Taxi-v3 environment importing Gym and import all dependecies. The documentation for OpenAI Gym is available here: https://gym.openai.com. In Taxi-v3, there are 4 locations (labeled by di\u000berent letters) and your job is to pick up the passenger at one location and drop him o\u000bff in another. You receive +20 points for a successful drop-off\u000b, and lose 1 point for every time step it takes. There is also a 10 point penalty for illegal pick-up and drop-off\u000b actions. You have 6 possible actions (Up, Down, Right, Left, Pick-up, Drop-off)."
      ]
    },
    {
      "cell_type": "code",
      "metadata": {
        "id": "FNLY7_z9Jifp",
        "outputId": "4979ac8c-bfb0-43ee-a50f-2317d9d48628",
        "colab": {
          "base_uri": "https://localhost:8080/",
          "height": 170
        }
      },
      "source": [
        "import gym #import open AI gym\n",
        "import numpy as np #import numpy \n",
        "import matplotlib.pyplot as plt\n",
        "env = gym.make(\"Taxi-v3\") #Make Taxi-v3 environment. You can find documentation here: https://gym.openai.com/envs/Taxi-v3/\n",
        "state = env.reset() #reset the state of the environment\n",
        "print(state) # print the value of initial state\n",
        "env.render() #render the environment"
      ],
      "execution_count": 1,
      "outputs": [
        {
          "output_type": "stream",
          "text": [
            "442\n",
            "+---------+\n",
            "|\u001b[34;1mR\u001b[0m: | : :G|\n",
            "| : | : : |\n",
            "| : : : : |\n",
            "| | : | : |\n",
            "|\u001b[35mY\u001b[0m| :\u001b[43m \u001b[0m|B: |\n",
            "+---------+\n",
            "\n"
          ],
          "name": "stdout"
        }
      ]
    },
    {
      "cell_type": "markdown",
      "metadata": {
        "id": "p6N1CGL6ctAe"
      },
      "source": [
        "Number of possible states and Number of possible actions"
      ]
    },
    {
      "cell_type": "code",
      "metadata": {
        "id": "aWtX2_gYJnpD",
        "outputId": "a8ce4b9b-ccd7-43e7-c2d1-589e38b59e2c",
        "colab": {
          "base_uri": "https://localhost:8080/",
          "height": 51
        }
      },
      "source": [
        "n_states = env.observation_space.n\n",
        "print(n_states)\n",
        "n_actions = env.action_space.n\n",
        "print(n_actions)"
      ],
      "execution_count": 2,
      "outputs": [
        {
          "output_type": "stream",
          "text": [
            "500\n",
            "6\n"
          ],
          "name": "stdout"
        }
      ]
    },
    {
      "cell_type": "markdown",
      "metadata": {
        "id": "KmQp1z3PczY8"
      },
      "source": [
        "Implement TD(0) algorithm to compute the value function of the randomized policy."
      ]
    },
    {
      "cell_type": "code",
      "metadata": {
        "id": "mDZZEuPMJ9Ug",
        "outputId": "b90bfe29-9099-440c-de34-469a844895d4",
        "colab": {
          "base_uri": "https://localhost:8080/",
          "height": 284
        }
      },
      "source": [
        "#initialization\n",
        "V= np.zeros(n_states)#??? #initialize value function\n",
        "alpha = 0.2 #??? # initialize alpha\n",
        "gamma=0.99 # initailize gamma\n",
        "episodes =250\n",
        "V_Avg=np.zeros(episodes)\n",
        "for episode in range(1,episodes+1):\n",
        "  Termination = False\n",
        "  counter=0\n",
        "  state = env.reset() # initialize state\n",
        "  \n",
        "  while Termination != True:\n",
        "    action = env.action_space.sample() #Take a random action, where action does not depends on state\n",
        "    S2, R, done, info = env.step(action) #Take action and observe reward R and the next state S2\n",
        "    # env.render()\n",
        "    counter += 1 #update the iteration count\n",
        "\n",
        "    # HW 4, fill up the codes here:  \n",
        "    #update Value function using TD(0)  \n",
        "    V[state] = V[state] + alpha*(R + gamma* V[S2] - V[state] )#???\n",
        "    #update the state by following the randomized policy\n",
        "    state = S2#???\n",
        "    #R = 20 indicates a successful dropoff. \n",
        "    if (R==20):\n",
        "      Termination = True\n",
        "    \n",
        "    \n",
        "  \n",
        "  V_Avg[episode-1]=np.mean(V)\n",
        "plt.plot(V_Avg)\n",
        "\n"
      ],
      "execution_count": 8,
      "outputs": [
        {
          "output_type": "execute_result",
          "data": {
            "text/plain": [
              "[<matplotlib.lines.Line2D at 0x7fb3d25f15c0>]"
            ]
          },
          "metadata": {
            "tags": []
          },
          "execution_count": 8
        },
        {
          "output_type": "display_data",
          "data": {
            "image/png": "[encoded data removed]",
            "text/plain": [
              "<Figure size 432x288 with 1 Axes>"
            ]
          },
          "metadata": {
            "tags": [],
            "needs_background": "light"
          }
        }
      ]
    },
    {
      "cell_type": "code",
      "metadata": {
        "id": "rtaR9sCvJ6w4"
      },
      "source": [
        ""
      ],
      "execution_count": 3,
      "outputs": []
    }
  ]
}
